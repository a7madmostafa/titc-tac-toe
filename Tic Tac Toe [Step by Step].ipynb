{
 "cells": [
  {
   "cell_type": "markdown",
   "metadata": {
    "id": "PhpgbWHJhJOW"
   },
   "source": [
    "# Tic Tac Toe Project Description"
   ]
  },
  {
   "cell_type": "markdown",
   "metadata": {
    "id": "9XJyp9xehPBl"
   },
   "source": [
    " **`(1) Create Empty board (3x3):`**\n",
    "\n",
    "  `1  2  3`\n",
    "\n",
    "  `4 5 6`\n",
    "\n",
    "  `7 8 9`\n",
    "\n",
    " **`(2) Show Board`**\n",
    "\n",
    " **`(3) Set Players Randomly ('X', 'O')`**\n",
    "\n",
    " **`(4) Take Input from Player`**\n",
    "\n",
    " **`(5) Check Full Board >> Draw`**\n",
    "\n",
    " **`(6) Check if Someone wins >> Finish`**"
   ]
  },
  {
   "cell_type": "markdown",
   "metadata": {
    "id": "m2nflmTioFy_"
   },
   "source": [
    "# Solution"
   ]
  },
  {
   "cell_type": "markdown",
   "metadata": {
    "id": "GsE-z7Son-xm"
   },
   "source": [
    "## Empty Board"
   ]
  },
  {
   "cell_type": "code",
   "execution_count": 10,
   "metadata": {
    "executionInfo": {
     "elapsed": 246,
     "status": "ok",
     "timestamp": 1669319761079,
     "user": {
      "displayName": "Zero Grad",
      "userId": "01667150129135608723"
     },
     "user_tz": -120
    },
    "id": "YueCJNtPnndY"
   },
   "outputs": [],
   "source": [
    "def create_empty_board():\n",
    "  board = [[1,2,3],\n",
    "           [4,5,6],\n",
    "           [7,8,9]]\n",
    "  for row in board:\n",
    "    for col in row:\n",
    "      print(col, end='\\t')\n",
    "    print('\\n')  "
   ]
  },
  {
   "cell_type": "code",
   "execution_count": null,
   "metadata": {
    "colab": {
     "base_uri": "https://localhost:8080/"
    },
    "executionInfo": {
     "elapsed": 2,
     "status": "ok",
     "timestamp": 1668335765797,
     "user": {
      "displayName": "Zero Grad",
      "userId": "01667150129135608723"
     },
     "user_tz": -120
    },
    "id": "RMlzPMyHRIq7",
    "outputId": "beda709c-9c9d-4af5-dcb0-b452a6000739"
   },
   "outputs": [
    {
     "name": "stdout",
     "output_type": "stream",
     "text": [
      "1\t2\t3\t\n",
      "\n",
      "4\t5\t6\t\n",
      "\n",
      "7\t8\t9\t\n",
      "\n"
     ]
    }
   ],
   "source": [
    "create_empty_board()"
   ]
  },
  {
   "cell_type": "code",
   "execution_count": 7,
   "metadata": {
    "colab": {
     "base_uri": "https://localhost:8080/"
    },
    "executionInfo": {
     "elapsed": 5,
     "status": "ok",
     "timestamp": 1669319629169,
     "user": {
      "displayName": "Zero Grad",
      "userId": "01667150129135608723"
     },
     "user_tz": -120
    },
    "id": "onJIMjzLMR2e",
    "outputId": "3b76f062-2739-4565-874d-62f36f86314f"
   },
   "outputs": [
    {
     "name": "stdout",
     "output_type": "stream",
     "text": [
      "1\t2\t3\t\n",
      "\n",
      "4\t5\t6\t\n",
      "\n",
      "7\t8\t9\t\n",
      "\n"
     ]
    }
   ],
   "source": [
    "board = [[1,2,3],\n",
    "           [4,5,6],\n",
    "           [7,8,9]]  # position  6  > board[1][2]\n",
    "for row in board:\n",
    "    for col in row:\n",
    "        print(col, end='\\t')\n",
    "    print('\\n')"
   ]
  },
  {
   "cell_type": "markdown",
   "metadata": {
    "id": "qjKBWyq4f3Fr"
   },
   "source": [
    "## Show Board"
   ]
  },
  {
   "cell_type": "code",
   "execution_count": 8,
   "metadata": {
    "executionInfo": {
     "elapsed": 262,
     "status": "ok",
     "timestamp": 1669319756380,
     "user": {
      "displayName": "Zero Grad",
      "userId": "01667150129135608723"
     },
     "user_tz": -120
    },
    "id": "Bn6VqZo_Xze5"
   },
   "outputs": [],
   "source": [
    "def show_board(board):\n",
    "  for row in board:\n",
    "    for col in row:\n",
    "      print(col, end='\\t')\n",
    "    print('\\n') "
   ]
  },
  {
   "cell_type": "code",
   "execution_count": 9,
   "metadata": {
    "colab": {
     "base_uri": "https://localhost:8080/"
    },
    "executionInfo": {
     "elapsed": 5,
     "status": "ok",
     "timestamp": 1669319756921,
     "user": {
      "displayName": "Zero Grad",
      "userId": "01667150129135608723"
     },
     "user_tz": -120
    },
    "id": "Z7lIOpFfX3dU",
    "outputId": "4dae7f6e-3981-4283-88cd-119d8467677f"
   },
   "outputs": [
    {
     "name": "stdout",
     "output_type": "stream",
     "text": [
      "1\t2\t3\t\n",
      "\n",
      "4\tX\t6\t\n",
      "\n",
      "7\t8\t9\t\n",
      "\n"
     ]
    }
   ],
   "source": [
    "board = [[1,2,3],[4,'X',6],[7,8,9]]\n",
    "show_board(board)"
   ]
  },
  {
   "cell_type": "markdown",
   "metadata": {
    "id": "ZaIwkooboJ5p"
   },
   "source": [
    "## Set Players"
   ]
  },
  {
   "cell_type": "code",
   "execution_count": 12,
   "metadata": {
    "executionInfo": {
     "elapsed": 267,
     "status": "ok",
     "timestamp": 1669320020734,
     "user": {
      "displayName": "Zero Grad",
      "userId": "01667150129135608723"
     },
     "user_tz": -120
    },
    "id": "we7UkC6AhFwy"
   },
   "outputs": [],
   "source": [
    "def set_players():\n",
    "  from random import choice\n",
    "  player1 = choice(['X','O'])\n",
    "  if player1 == 'O':\n",
    "    player2 = 'X' \n",
    "  else:\n",
    "    player2 ='O' \n",
    "  return player1, player2"
   ]
  },
  {
   "cell_type": "code",
   "execution_count": 14,
   "metadata": {
    "colab": {
     "base_uri": "https://localhost:8080/"
    },
    "executionInfo": {
     "elapsed": 3,
     "status": "ok",
     "timestamp": 1669320026506,
     "user": {
      "displayName": "Zero Grad",
      "userId": "01667150129135608723"
     },
     "user_tz": -120
    },
    "id": "3A_FDAHLWxNF",
    "outputId": "75cd6362-feea-4eff-ede8-a9b4aad62f89"
   },
   "outputs": [
    {
     "data": {
      "text/plain": [
       "('O', 'X')"
      ]
     },
     "execution_count": 14,
     "metadata": {},
     "output_type": "execute_result"
    }
   ],
   "source": [
    "set_players()"
   ]
  },
  {
   "cell_type": "markdown",
   "metadata": {
    "id": "VNl11PuZgDjc"
   },
   "source": [
    "## Take Input"
   ]
  },
  {
   "cell_type": "code",
   "execution_count": 15,
   "metadata": {
    "executionInfo": {
     "elapsed": 259,
     "status": "ok",
     "timestamp": 1669320200014,
     "user": {
      "displayName": "Zero Grad",
      "userId": "01667150129135608723"
     },
     "user_tz": -120
    },
    "id": "pZAd299MY2fw"
   },
   "outputs": [],
   "source": [
    "def take_input(board, player):\n",
    "  while True:\n",
    "    player_input = input('Please Enter a number between 1,9 represents an empty position:     ')\n",
    "    if player_input == '1' and board[0][0].isdigit() :\n",
    "      board[0][0] = player\n",
    "      break\n",
    "    elif player_input == '2' and board[0][1].isdigit():\n",
    "      board[0][1] = player\n",
    "      break\n",
    "    elif player_input == '3' and board[0][2].isdigit():\n",
    "      board[0][2] = player\n",
    "      break\n",
    "    elif player_input == '4' and board[1][0].isdigit():\n",
    "      board[1][0] = player\n",
    "      break\n",
    "    elif player_input == '5' and board[1][1].isdigit():\n",
    "      board[1][1] = player\n",
    "      break\n",
    "    elif player_input == '6' and board[1][2].isdigit():\n",
    "      board[1][2] = player\n",
    "      break\n",
    "    elif player_input == '7' and board[2][0].isdigit():\n",
    "      board[2][0] = player\n",
    "      break\n",
    "    elif player_input == '8' and board[2][1].isdigit():\n",
    "      board[2][1] = player\n",
    "      break\n",
    "    elif player_input == '9' and board[2][2].isdigit():\n",
    "      board[2][2] = player\n",
    "      break\n",
    "    else:\n",
    "      print('Invalid Choice') \n",
    "      continue \n",
    "  show_board(board)"
   ]
  },
  {
   "cell_type": "code",
   "execution_count": 16,
   "metadata": {
    "colab": {
     "base_uri": "https://localhost:8080/"
    },
    "executionInfo": {
     "elapsed": 48684,
     "status": "ok",
     "timestamp": 1669320249239,
     "user": {
      "displayName": "Zero Grad",
      "userId": "01667150129135608723"
     },
     "user_tz": -120
    },
    "id": "bH2UI4GEcAVp",
    "outputId": "fd133c95-5a7d-42d6-bb6b-e66ddb8cf25d"
   },
   "outputs": [
    {
     "name": "stdout",
     "output_type": "stream",
     "text": [
      "Please Enter a number between 1,9 represents an empty position:     5\n",
      "Invalid Choice\n",
      "Please Enter a number between 1,9 represents an empty position:     4\n",
      "1\t2\t3\t\n",
      "\n",
      "O\tX\t6\t\n",
      "\n",
      "7\t8\t9\t\n",
      "\n"
     ]
    }
   ],
   "source": [
    "board = [['1','2','3'],['4','X','6'],['7','8','9']]\n",
    "player ='O'\n",
    "\n",
    "take_input(board, player)\n"
   ]
  },
  {
   "cell_type": "markdown",
   "metadata": {
    "id": "mgCFF48jgVq7"
   },
   "source": [
    "## Check Full Board"
   ]
  },
  {
   "cell_type": "code",
   "execution_count": 17,
   "metadata": {
    "executionInfo": {
     "elapsed": 250,
     "status": "ok",
     "timestamp": 1669320452629,
     "user": {
      "displayName": "Zero Grad",
      "userId": "01667150129135608723"
     },
     "user_tz": -120
    },
    "id": "obxUdjg_ThZi"
   },
   "outputs": [],
   "source": [
    "def check_full_board(board):\n",
    "  for row in board:\n",
    "    for col in row:\n",
    "      if col.isdigit():\n",
    "        return False\n",
    "  return True      "
   ]
  },
  {
   "cell_type": "code",
   "execution_count": 20,
   "metadata": {
    "colab": {
     "base_uri": "https://localhost:8080/"
    },
    "executionInfo": {
     "elapsed": 249,
     "status": "ok",
     "timestamp": 1669320471571,
     "user": {
      "displayName": "Zero Grad",
      "userId": "01667150129135608723"
     },
     "user_tz": -120
    },
    "id": "TcLZt1PqS_9i",
    "outputId": "f6de8f6b-f947-4cfa-dd1c-31c3f34dab6c"
   },
   "outputs": [
    {
     "data": {
      "text/plain": [
       "False"
      ]
     },
     "execution_count": 20,
     "metadata": {},
     "output_type": "execute_result"
    }
   ],
   "source": [
    "board = [['o','x','x'],['4','X','o'],['x','o','x']]\n",
    "check_full_board(board)"
   ]
  },
  {
   "cell_type": "code",
   "execution_count": null,
   "metadata": {
    "colab": {
     "base_uri": "https://localhost:8080/"
    },
    "executionInfo": {
     "elapsed": 4,
     "status": "ok",
     "timestamp": 1668335821559,
     "user": {
      "displayName": "Zero Grad",
      "userId": "01667150129135608723"
     },
     "user_tz": -120
    },
    "id": "s475eihMkEqL",
    "outputId": "b75d126e-dc1b-4788-d3b2-bbe777f2ab67"
   },
   "outputs": [
    {
     "data": {
      "text/plain": [
       "False"
      ]
     },
     "execution_count": 90,
     "metadata": {},
     "output_type": "execute_result"
    }
   ],
   "source": [
    "board = [['o','x','x'],['4','X','o'],['x','o','x']]\n",
    "check_full_board(board)"
   ]
  },
  {
   "cell_type": "markdown",
   "metadata": {
    "id": "OjfyXPCeoQM4"
   },
   "source": [
    "## Check Win\n"
   ]
  },
  {
   "cell_type": "code",
   "execution_count": 21,
   "metadata": {
    "executionInfo": {
     "elapsed": 251,
     "status": "ok",
     "timestamp": 1669320600424,
     "user": {
      "displayName": "Zero Grad",
      "userId": "01667150129135608723"
     },
     "user_tz": -120
    },
    "id": "NTxJ1qsJmhoG"
   },
   "outputs": [],
   "source": [
    "def check_win(board):\n",
    "  return board[0][0] == board[0][1] == board[0][2] or \\\n",
    "         board[1][0] == board[1][1] == board[1][2] or \\\n",
    "         board[2][0] == board[2][1] == board[2][2] or \\\n",
    "         board[0][0] == board[1][0] == board[2][0] or \\\n",
    "         board[0][1] == board[1][1] == board[2][1] or \\\n",
    "         board[0][2] == board[1][2] == board[2][2] or \\\n",
    "         board[0][0] == board[1][1] == board[2][2] or \\\n",
    "         board[0][2] == board[1][1] == board[2][0] "
   ]
  },
  {
   "cell_type": "code",
   "execution_count": 24,
   "metadata": {
    "colab": {
     "base_uri": "https://localhost:8080/"
    },
    "executionInfo": {
     "elapsed": 256,
     "status": "ok",
     "timestamp": 1669320626137,
     "user": {
      "displayName": "Zero Grad",
      "userId": "01667150129135608723"
     },
     "user_tz": -120
    },
    "id": "E-mETiZEfZqp",
    "outputId": "470e84f5-8314-452b-ea78-a6f34d176023"
   },
   "outputs": [
    {
     "name": "stdout",
     "output_type": "stream",
     "text": [
      "o\tx\tx\t\n",
      "\n",
      "o\to\tx\t\n",
      "\n",
      "x\to\t9\t\n",
      "\n"
     ]
    },
    {
     "data": {
      "text/plain": [
       "False"
      ]
     },
     "execution_count": 24,
     "metadata": {},
     "output_type": "execute_result"
    }
   ],
   "source": [
    "board = [['o','x','x'],['o','o','x'],['x','o','9']]\n",
    "show_board(board)\n",
    "check_win(board)"
   ]
  },
  {
   "cell_type": "code",
   "execution_count": null,
   "metadata": {
    "colab": {
     "base_uri": "https://localhost:8080/"
    },
    "executionInfo": {
     "elapsed": 4,
     "status": "ok",
     "timestamp": 1668335846353,
     "user": {
      "displayName": "Zero Grad",
      "userId": "01667150129135608723"
     },
     "user_tz": -120
    },
    "id": "CmlQlsjZkIut",
    "outputId": "2d81b488-ba7e-43d5-aafc-4c498c60af89"
   },
   "outputs": [
    {
     "name": "stdout",
     "output_type": "stream",
     "text": [
      "o\tx\to\t\n",
      "\n",
      "o\to\tx\t\n",
      "\n",
      "x\to\tx\t\n",
      "\n"
     ]
    },
    {
     "data": {
      "text/plain": [
       "False"
      ]
     },
     "execution_count": 93,
     "metadata": {},
     "output_type": "execute_result"
    }
   ],
   "source": [
    "board = [['o','x','o'],['o','o','x'],['x','o','x']]\n",
    "show_board(board)\n",
    "check_win(board)"
   ]
  },
  {
   "cell_type": "markdown",
   "metadata": {
    "id": "uI9u-XGV2S7P"
   },
   "source": [
    "## Let's Play"
   ]
  },
  {
   "cell_type": "code",
   "execution_count": 25,
   "metadata": {
    "executionInfo": {
     "elapsed": 306,
     "status": "ok",
     "timestamp": 1669320836493,
     "user": {
      "displayName": "Zero Grad",
      "userId": "01667150129135608723"
     },
     "user_tz": -120
    },
    "id": "4nIAPOhSpksM"
   },
   "outputs": [],
   "source": [
    "def play():\n",
    "  player1, player2 = set_players()\n",
    "  print(\"Player1 :  \", player1)\n",
    "  print(\"Player2 :  \", player2, '\\n')\n",
    "  board = [['1','2','3'],['4','5','6'],['7','8','9']]\n",
    "  show_board(board)\n",
    "  while True:\n",
    "    for player in [player1, player2]:\n",
    "      print(f\"{player} turn\")\n",
    "      take_input(board, player)\n",
    "      if check_win(board):\n",
    "        print(f\"{player} wins\")\n",
    "        break\n",
    "      if check_full_board(board):\n",
    "        print('Game Finished. Draw!')\n",
    "        break\n",
    "    if check_win(board):\n",
    "        break\n",
    "    if check_full_board(board):\n",
    "        break    "
   ]
  },
  {
   "cell_type": "code",
   "execution_count": 27,
   "metadata": {
    "colab": {
     "base_uri": "https://localhost:8080/"
    },
    "executionInfo": {
     "elapsed": 42344,
     "status": "ok",
     "timestamp": 1669320919400,
     "user": {
      "displayName": "Zero Grad",
      "userId": "01667150129135608723"
     },
     "user_tz": -120
    },
    "id": "7m9ENdZp1Ffg",
    "outputId": "3bda2592-e5e4-4149-8b8f-a42fc88c18e9"
   },
   "outputs": [
    {
     "name": "stdout",
     "output_type": "stream",
     "text": [
      "Player1 :   O\n",
      "Player2 :   X \n",
      "\n",
      "1\t2\t3\t\n",
      "\n",
      "4\t5\t6\t\n",
      "\n",
      "7\t8\t9\t\n",
      "\n",
      "O turn\n",
      "Please Enter a number between 1,9 represents an empty position:     1\n",
      "O\t2\t3\t\n",
      "\n",
      "4\t5\t6\t\n",
      "\n",
      "7\t8\t9\t\n",
      "\n",
      "X turn\n",
      "Please Enter a number between 1,9 represents an empty position:     2\n",
      "O\tX\t3\t\n",
      "\n",
      "4\t5\t6\t\n",
      "\n",
      "7\t8\t9\t\n",
      "\n",
      "O turn\n",
      "Please Enter a number between 1,9 represents an empty position:     3\n",
      "O\tX\tO\t\n",
      "\n",
      "4\t5\t6\t\n",
      "\n",
      "7\t8\t9\t\n",
      "\n",
      "X turn\n",
      "Please Enter a number between 1,9 represents an empty position:     4\n",
      "O\tX\tO\t\n",
      "\n",
      "X\t5\t6\t\n",
      "\n",
      "7\t8\t9\t\n",
      "\n",
      "O turn\n",
      "Please Enter a number between 1,9 represents an empty position:     5\n",
      "O\tX\tO\t\n",
      "\n",
      "X\tO\t6\t\n",
      "\n",
      "7\t8\t9\t\n",
      "\n",
      "X turn\n",
      "Please Enter a number between 1,9 represents an empty position:     6\n",
      "O\tX\tO\t\n",
      "\n",
      "X\tO\tX\t\n",
      "\n",
      "7\t8\t9\t\n",
      "\n",
      "O turn\n",
      "Please Enter a number between 1,9 represents an empty position:     8\n",
      "O\tX\tO\t\n",
      "\n",
      "X\tO\tX\t\n",
      "\n",
      "7\tO\t9\t\n",
      "\n",
      "X turn\n",
      "Please Enter a number between 1,9 represents an empty position:     7\n",
      "O\tX\tO\t\n",
      "\n",
      "X\tO\tX\t\n",
      "\n",
      "X\tO\t9\t\n",
      "\n",
      "O turn\n",
      "Please Enter a number between 1,9 represents an empty position:     88\n",
      "Invalid Choice\n",
      "Please Enter a number between 1,9 represents an empty position:     g\n",
      "Invalid Choice\n",
      "Please Enter a number between 1,9 represents an empty position:     6\n",
      "Invalid Choice\n",
      "Please Enter a number between 1,9 represents an empty position:     9\n",
      "O\tX\tO\t\n",
      "\n",
      "X\tO\tX\t\n",
      "\n",
      "X\tO\tO\t\n",
      "\n",
      "O wins\n"
     ]
    }
   ],
   "source": [
    "play()"
   ]
  },
  {
   "cell_type": "code",
   "execution_count": null,
   "metadata": {
    "id": "O911u9mL3Akr"
   },
   "outputs": [],
   "source": []
  }
 ],
 "metadata": {
  "colab": {
   "provenance": []
  },
  "kernelspec": {
   "display_name": "Python 3",
   "name": "python3"
  },
  "language_info": {
   "name": "python"
  }
 },
 "nbformat": 4,
 "nbformat_minor": 0
}
